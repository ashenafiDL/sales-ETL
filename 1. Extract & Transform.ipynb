{
 "cells": [
  {
   "cell_type": "markdown",
   "metadata": {},
   "source": [
    "### Project Overview:\n",
    "\n",
    "The goal of this project is to perform Extract, Transform, and Load (ETL) operations on a sales dataset. The dataset likely contains information about sales transactions, including details such as region, country, item type, order date etc.\n",
    "\n",
    "ETL processes involve extracting data from various sources, transforming it into a suitable format, and loading it into a destination such as a database for further analysis or reporting. In this project, we'll use Python along with libraries like pandas for data manipulation, scipy for statistical analysis, and sqlalchemy for connecting to a PostgreSQL database.\n",
    "\n",
    "The overall objective is to clean, preprocess, and structure the sales data, ensuring it is in a usable format for analysis and reporting purposes. This involves tasks such as handling missing values, removing outliers, converting data types, and loading the cleaned data into a PostgreSQL database for storage and further analysis."
   ]
  },
  {
   "cell_type": "markdown",
   "metadata": {},
   "source": [
    "Import the necessary libraries for data manipulation and statistical analysis, and database connection, then read the dataset form the CSV file:\n",
    "\n",
    "1. pandas: To read and manipulate CSV files\n",
    "2. scipy.stats: For outlier detection"
   ]
  },
  {
   "cell_type": "code",
   "execution_count": 1,
   "metadata": {},
   "outputs": [
    {
     "name": "stderr",
     "output_type": "stream",
     "text": [
      "C:\\Users\\biny\\AppData\\Local\\Temp\\ipykernel_12052\\2233648990.py:1: DeprecationWarning: \n",
      "Pyarrow will become a required dependency of pandas in the next major release of pandas (pandas 3.0),\n",
      "(to allow more performant data types, such as the Arrow string type, and better interoperability with other libraries)\n",
      "but was not found to be installed on your system.\n",
      "If this would cause problems for you,\n",
      "please provide us feedback at https://github.com/pandas-dev/pandas/issues/54466\n",
      "        \n",
      "  import pandas as pd\n"
     ]
    }
   ],
   "source": [
    "import pandas as pd\n",
    "from scipy import stats"
   ]
  },
  {
   "cell_type": "code",
   "execution_count": 2,
   "metadata": {},
   "outputs": [
    {
     "data": {
      "text/html": [
       "<div>\n",
       "<style scoped>\n",
       "    .dataframe tbody tr th:only-of-type {\n",
       "        vertical-align: middle;\n",
       "    }\n",
       "\n",
       "    .dataframe tbody tr th {\n",
       "        vertical-align: top;\n",
       "    }\n",
       "\n",
       "    .dataframe thead th {\n",
       "        text-align: right;\n",
       "    }\n",
       "</style>\n",
       "<table border=\"1\" class=\"dataframe\">\n",
       "  <thead>\n",
       "    <tr style=\"text-align: right;\">\n",
       "      <th></th>\n",
       "      <th>Region</th>\n",
       "      <th>Country</th>\n",
       "      <th>Item Type</th>\n",
       "      <th>Sales Channel</th>\n",
       "      <th>Order Priority</th>\n",
       "      <th>Order Date</th>\n",
       "      <th>Order ID</th>\n",
       "      <th>Ship Date</th>\n",
       "      <th>Units Sold</th>\n",
       "      <th>Unit Price</th>\n",
       "      <th>Unit Cost</th>\n",
       "      <th>Total Revenue</th>\n",
       "      <th>Total Cost</th>\n",
       "      <th>Total Profit</th>\n",
       "    </tr>\n",
       "  </thead>\n",
       "  <tbody>\n",
       "    <tr>\n",
       "      <th>0</th>\n",
       "      <td>Sub-Saharan Africa</td>\n",
       "      <td>South Africa</td>\n",
       "      <td>Fruits</td>\n",
       "      <td>Offline</td>\n",
       "      <td>M</td>\n",
       "      <td>7/27/2012</td>\n",
       "      <td>443368995</td>\n",
       "      <td>7/28/2012</td>\n",
       "      <td>1593</td>\n",
       "      <td>9.33</td>\n",
       "      <td>6.92</td>\n",
       "      <td>14862.69</td>\n",
       "      <td>11023.56</td>\n",
       "      <td>3839.13</td>\n",
       "    </tr>\n",
       "    <tr>\n",
       "      <th>1</th>\n",
       "      <td>Middle East and North Africa</td>\n",
       "      <td>Morocco</td>\n",
       "      <td>Clothes</td>\n",
       "      <td>Online</td>\n",
       "      <td>M</td>\n",
       "      <td>9/14/2013</td>\n",
       "      <td>667593514</td>\n",
       "      <td>10/19/2013</td>\n",
       "      <td>4611</td>\n",
       "      <td>109.28</td>\n",
       "      <td>35.84</td>\n",
       "      <td>503890.08</td>\n",
       "      <td>165258.24</td>\n",
       "      <td>338631.84</td>\n",
       "    </tr>\n",
       "    <tr>\n",
       "      <th>2</th>\n",
       "      <td>Australia and Oceania</td>\n",
       "      <td>Papua New Guinea</td>\n",
       "      <td>Meat</td>\n",
       "      <td>Offline</td>\n",
       "      <td>M</td>\n",
       "      <td>5/15/2015</td>\n",
       "      <td>940995585</td>\n",
       "      <td>6/4/2015</td>\n",
       "      <td>360</td>\n",
       "      <td>421.89</td>\n",
       "      <td>364.69</td>\n",
       "      <td>151880.40</td>\n",
       "      <td>131288.40</td>\n",
       "      <td>20592.00</td>\n",
       "    </tr>\n",
       "    <tr>\n",
       "      <th>3</th>\n",
       "      <td>Sub-Saharan Africa</td>\n",
       "      <td>Djibouti</td>\n",
       "      <td>Clothes</td>\n",
       "      <td>Offline</td>\n",
       "      <td>H</td>\n",
       "      <td>5/17/2017</td>\n",
       "      <td>880811536</td>\n",
       "      <td>7/2/2017</td>\n",
       "      <td>562</td>\n",
       "      <td>109.28</td>\n",
       "      <td>35.84</td>\n",
       "      <td>61415.36</td>\n",
       "      <td>20142.08</td>\n",
       "      <td>41273.28</td>\n",
       "    </tr>\n",
       "    <tr>\n",
       "      <th>4</th>\n",
       "      <td>Europe</td>\n",
       "      <td>Slovakia</td>\n",
       "      <td>Beverages</td>\n",
       "      <td>Offline</td>\n",
       "      <td>L</td>\n",
       "      <td>10/26/2016</td>\n",
       "      <td>174590194</td>\n",
       "      <td>12/4/2016</td>\n",
       "      <td>3973</td>\n",
       "      <td>47.45</td>\n",
       "      <td>31.79</td>\n",
       "      <td>188518.85</td>\n",
       "      <td>126301.67</td>\n",
       "      <td>62217.18</td>\n",
       "    </tr>\n",
       "  </tbody>\n",
       "</table>\n",
       "</div>"
      ],
      "text/plain": [
       "                         Region           Country  Item Type Sales Channel  \\\n",
       "0            Sub-Saharan Africa      South Africa     Fruits       Offline   \n",
       "1  Middle East and North Africa           Morocco    Clothes        Online   \n",
       "2         Australia and Oceania  Papua New Guinea       Meat       Offline   \n",
       "3            Sub-Saharan Africa          Djibouti    Clothes       Offline   \n",
       "4                        Europe          Slovakia  Beverages       Offline   \n",
       "\n",
       "  Order Priority  Order Date   Order ID   Ship Date  Units Sold  Unit Price  \\\n",
       "0              M   7/27/2012  443368995   7/28/2012        1593        9.33   \n",
       "1              M   9/14/2013  667593514  10/19/2013        4611      109.28   \n",
       "2              M   5/15/2015  940995585    6/4/2015         360      421.89   \n",
       "3              H   5/17/2017  880811536    7/2/2017         562      109.28   \n",
       "4              L  10/26/2016  174590194   12/4/2016        3973       47.45   \n",
       "\n",
       "   Unit Cost  Total Revenue  Total Cost  Total Profit  \n",
       "0       6.92       14862.69    11023.56       3839.13  \n",
       "1      35.84      503890.08   165258.24     338631.84  \n",
       "2     364.69      151880.40   131288.40      20592.00  \n",
       "3      35.84       61415.36    20142.08      41273.28  \n",
       "4      31.79      188518.85   126301.67      62217.18  "
      ]
     },
     "execution_count": 2,
     "metadata": {},
     "output_type": "execute_result"
    }
   ],
   "source": [
    "df = pd.read_csv(\"sales-records.csv\")\n",
    "df.head()"
   ]
  },
  {
   "cell_type": "code",
   "execution_count": 8,
   "metadata": {},
   "outputs": [
    {
     "name": "stdout",
     "output_type": "stream",
     "text": [
      "Item types available in the dataset:  ['Fruits' 'Clothes' 'Meat' 'Beverages' 'Office Supplies' 'Cosmetics'\n",
      " 'Snacks' 'Personal Care' 'Household' 'Vegetables' 'Baby Food' 'Cereal'] \n",
      "\n",
      "Regions in the dataset:  ['Sub-Saharan Africa' 'Middle East and North Africa'\n",
      " 'Australia and Oceania' 'Europe' 'Asia'\n",
      " 'Central America and the Caribbean' 'North America'] \n",
      "\n",
      "Sales channels in the dataset:  ['Offline' 'Online'] \n",
      "\n",
      "Order priority types in the dataset:  ['M' 'H' 'L' 'C'] \n",
      "\n"
     ]
    }
   ],
   "source": [
    "print(\"Item types available in the dataset: \", df[\"Item Type\"].unique(), \"\\n\")\n",
    "print(\"Regions in the dataset: \", df[\"Region\"].unique(), \"\\n\")\n",
    "print(\"Sales channels in the dataset: \", df[\"Sales Channel\"].unique(), \"\\n\")\n",
    "print(\"Order priority types in the dataset: \", df[\"Order Priority\"].unique(), \"\\n\")"
   ]
  },
  {
   "cell_type": "code",
   "execution_count": 9,
   "metadata": {},
   "outputs": [
    {
     "data": {
      "text/plain": [
       "(1000000, 14)"
      ]
     },
     "execution_count": 9,
     "metadata": {},
     "output_type": "execute_result"
    }
   ],
   "source": [
    "df.shape"
   ]
  },
  {
   "cell_type": "markdown",
   "metadata": {},
   "source": [
    "As we can see there are exactly 1 Million rows in the data set. Now lets check and remove missiong/null or duplicated values"
   ]
  },
  {
   "cell_type": "code",
   "execution_count": 13,
   "metadata": {},
   "outputs": [
    {
     "data": {
      "text/plain": [
       "Region            0\n",
       "Country           0\n",
       "Item Type         0\n",
       "Sales Channel     0\n",
       "Order Priority    0\n",
       "Order Date        0\n",
       "Order ID          0\n",
       "Ship Date         0\n",
       "Units Sold        0\n",
       "Unit Price        0\n",
       "Unit Cost         0\n",
       "Total Revenue     0\n",
       "Total Cost        0\n",
       "Total Profit      0\n",
       "dtype: int64"
      ]
     },
     "execution_count": 13,
     "metadata": {},
     "output_type": "execute_result"
    }
   ],
   "source": [
    "missing_data = df.isnull().sum()\n",
    "missing_data"
   ]
  },
  {
   "cell_type": "markdown",
   "metadata": {},
   "source": [
    "There are no missing/null values\n",
    "\n",
    "Now lets look for duplicate values."
   ]
  },
  {
   "cell_type": "code",
   "execution_count": 17,
   "metadata": {},
   "outputs": [
    {
     "data": {
      "text/plain": [
       "(941278, 14)"
      ]
     },
     "execution_count": 17,
     "metadata": {},
     "output_type": "execute_result"
    }
   ],
   "source": [
    "duplicate_rows = df.duplicated()\n",
    "\n",
    "# Remove duplicate rows\n",
    "cleaned_data = df.drop_duplicates()\n",
    "\n",
    "df.shape\n"
   ]
  },
  {
   "cell_type": "markdown",
   "metadata": {},
   "source": [
    "Now lets try to normalize the numerical data by removing outlier data."
   ]
  },
  {
   "cell_type": "code",
   "execution_count": 18,
   "metadata": {},
   "outputs": [],
   "source": [
    "# Loop through numerical columns\n",
    "for column in df.select_dtypes(include='number').columns:\n",
    "    z_scores = stats.zscore(df[column])\n",
    "\n",
    "    # Set threshold for outlier detection\n",
    "    threshold = 3\n",
    "    outlier_indices = (z_scores > threshold) | (z_scores < -threshold)\n",
    "\n",
    "    # Remove outliers\n",
    "    df = df[~outlier_indices]\n"
   ]
  },
  {
   "cell_type": "code",
   "execution_count": 19,
   "metadata": {},
   "outputs": [
    {
     "name": "stdout",
     "output_type": "stream",
     "text": [
      "<class 'pandas.core.frame.DataFrame'>\n",
      "Index: 895970 entries, 0 to 999999\n",
      "Data columns (total 14 columns):\n",
      " #   Column          Non-Null Count   Dtype  \n",
      "---  ------          --------------   -----  \n",
      " 0   Region          895970 non-null  object \n",
      " 1   Country         895970 non-null  object \n",
      " 2   Item Type       895970 non-null  object \n",
      " 3   Sales Channel   895970 non-null  object \n",
      " 4   Order Priority  895970 non-null  object \n",
      " 5   Order Date      895970 non-null  object \n",
      " 6   Order ID        895970 non-null  int64  \n",
      " 7   Ship Date       895970 non-null  object \n",
      " 8   Units Sold      895970 non-null  int64  \n",
      " 9   Unit Price      895970 non-null  float64\n",
      " 10  Unit Cost       895970 non-null  float64\n",
      " 11  Total Revenue   895970 non-null  float64\n",
      " 12  Total Cost      895970 non-null  float64\n",
      " 13  Total Profit    895970 non-null  float64\n",
      "dtypes: float64(5), int64(2), object(7)\n",
      "memory usage: 102.5+ MB\n"
     ]
    }
   ],
   "source": [
    "df.info()"
   ]
  },
  {
   "cell_type": "code",
   "execution_count": 20,
   "metadata": {},
   "outputs": [
    {
     "data": {
      "text/html": [
       "<div>\n",
       "<style scoped>\n",
       "    .dataframe tbody tr th:only-of-type {\n",
       "        vertical-align: middle;\n",
       "    }\n",
       "\n",
       "    .dataframe tbody tr th {\n",
       "        vertical-align: top;\n",
       "    }\n",
       "\n",
       "    .dataframe thead th {\n",
       "        text-align: right;\n",
       "    }\n",
       "</style>\n",
       "<table border=\"1\" class=\"dataframe\">\n",
       "  <thead>\n",
       "    <tr style=\"text-align: right;\">\n",
       "      <th></th>\n",
       "      <th>Order ID</th>\n",
       "      <th>Units Sold</th>\n",
       "      <th>Unit Price</th>\n",
       "      <th>Unit Cost</th>\n",
       "      <th>Total Revenue</th>\n",
       "      <th>Total Cost</th>\n",
       "      <th>Total Profit</th>\n",
       "    </tr>\n",
       "  </thead>\n",
       "  <tbody>\n",
       "    <tr>\n",
       "      <th>count</th>\n",
       "      <td>8.959700e+05</td>\n",
       "      <td>895970.000000</td>\n",
       "      <td>895970.000000</td>\n",
       "      <td>895970.000000</td>\n",
       "      <td>8.959700e+05</td>\n",
       "      <td>8.959700e+05</td>\n",
       "      <td>8.959700e+05</td>\n",
       "    </tr>\n",
       "    <tr>\n",
       "      <th>mean</th>\n",
       "      <td>5.494291e+08</td>\n",
       "      <td>4620.037658</td>\n",
       "      <td>230.379009</td>\n",
       "      <td>159.407136</td>\n",
       "      <td>9.376746e+05</td>\n",
       "      <td>6.362917e+05</td>\n",
       "      <td>3.013829e+05</td>\n",
       "    </tr>\n",
       "    <tr>\n",
       "      <th>std</th>\n",
       "      <td>2.599282e+08</td>\n",
       "      <td>2787.854051</td>\n",
       "      <td>197.284868</td>\n",
       "      <td>159.344168</td>\n",
       "      <td>9.019418e+05</td>\n",
       "      <td>7.014165e+05</td>\n",
       "      <td>2.613479e+05</td>\n",
       "    </tr>\n",
       "    <tr>\n",
       "      <th>min</th>\n",
       "      <td>1.000012e+08</td>\n",
       "      <td>1.000000</td>\n",
       "      <td>9.330000</td>\n",
       "      <td>6.920000</td>\n",
       "      <td>9.330000e+00</td>\n",
       "      <td>6.920000e+00</td>\n",
       "      <td>2.410000e+00</td>\n",
       "    </tr>\n",
       "    <tr>\n",
       "      <th>25%</th>\n",
       "      <td>3.239670e+08</td>\n",
       "      <td>2240.000000</td>\n",
       "      <td>81.730000</td>\n",
       "      <td>35.840000</td>\n",
       "      <td>2.344834e+05</td>\n",
       "      <td>1.365154e+05</td>\n",
       "      <td>8.029500e+04</td>\n",
       "    </tr>\n",
       "    <tr>\n",
       "      <th>50%</th>\n",
       "      <td>5.488118e+08</td>\n",
       "      <td>4480.000000</td>\n",
       "      <td>154.060000</td>\n",
       "      <td>97.440000</td>\n",
       "      <td>6.627654e+05</td>\n",
       "      <td>3.696017e+05</td>\n",
       "      <td>2.304062e+05</td>\n",
       "    </tr>\n",
       "    <tr>\n",
       "      <th>75%</th>\n",
       "      <td>7.746390e+08</td>\n",
       "      <td>6864.000000</td>\n",
       "      <td>421.890000</td>\n",
       "      <td>263.330000</td>\n",
       "      <td>1.374938e+06</td>\n",
       "      <td>8.728208e+05</td>\n",
       "      <td>4.751604e+05</td>\n",
       "    </tr>\n",
       "    <tr>\n",
       "      <th>max</th>\n",
       "      <td>9.999999e+08</td>\n",
       "      <td>10000.000000</td>\n",
       "      <td>668.270000</td>\n",
       "      <td>524.960000</td>\n",
       "      <td>4.182034e+06</td>\n",
       "      <td>3.145087e+06</td>\n",
       "      <td>1.149455e+06</td>\n",
       "    </tr>\n",
       "  </tbody>\n",
       "</table>\n",
       "</div>"
      ],
      "text/plain": [
       "           Order ID     Units Sold     Unit Price      Unit Cost  \\\n",
       "count  8.959700e+05  895970.000000  895970.000000  895970.000000   \n",
       "mean   5.494291e+08    4620.037658     230.379009     159.407136   \n",
       "std    2.599282e+08    2787.854051     197.284868     159.344168   \n",
       "min    1.000012e+08       1.000000       9.330000       6.920000   \n",
       "25%    3.239670e+08    2240.000000      81.730000      35.840000   \n",
       "50%    5.488118e+08    4480.000000     154.060000      97.440000   \n",
       "75%    7.746390e+08    6864.000000     421.890000     263.330000   \n",
       "max    9.999999e+08   10000.000000     668.270000     524.960000   \n",
       "\n",
       "       Total Revenue    Total Cost  Total Profit  \n",
       "count   8.959700e+05  8.959700e+05  8.959700e+05  \n",
       "mean    9.376746e+05  6.362917e+05  3.013829e+05  \n",
       "std     9.019418e+05  7.014165e+05  2.613479e+05  \n",
       "min     9.330000e+00  6.920000e+00  2.410000e+00  \n",
       "25%     2.344834e+05  1.365154e+05  8.029500e+04  \n",
       "50%     6.627654e+05  3.696017e+05  2.304062e+05  \n",
       "75%     1.374938e+06  8.728208e+05  4.751604e+05  \n",
       "max     4.182034e+06  3.145087e+06  1.149455e+06  "
      ]
     },
     "execution_count": 20,
     "metadata": {},
     "output_type": "execute_result"
    }
   ],
   "source": [
    "df.describe()"
   ]
  },
  {
   "cell_type": "markdown",
   "metadata": {},
   "source": [
    "In order to store the dataset into postgres database we need to change the data format in the `Order Date` and `Ship Date` columns into postgres compatible format. (From `7/27/2012` to `2012-7-27`)."
   ]
  },
  {
   "cell_type": "code",
   "execution_count": 21,
   "metadata": {},
   "outputs": [
    {
     "name": "stdout",
     "output_type": "stream",
     "text": [
      "                         Region           Country  Item Type Sales Channel  \\\n",
      "0            Sub-Saharan Africa      South Africa     Fruits       Offline   \n",
      "1  Middle East and North Africa           Morocco    Clothes        Online   \n",
      "2         Australia and Oceania  Papua New Guinea       Meat       Offline   \n",
      "3            Sub-Saharan Africa          Djibouti    Clothes       Offline   \n",
      "4                        Europe          Slovakia  Beverages       Offline   \n",
      "\n",
      "  Order Priority  Order Date   Order ID   Ship Date  Units Sold  Unit Price  \\\n",
      "0              M  2012-07-27  443368995  2012-07-28        1593        9.33   \n",
      "1              M  2013-09-14  667593514  2013-10-19        4611      109.28   \n",
      "2              M  2015-05-15  940995585  2015-06-04         360      421.89   \n",
      "3              H  2017-05-17  880811536  2017-07-02         562      109.28   \n",
      "4              L  2016-10-26  174590194  2016-12-04        3973       47.45   \n",
      "\n",
      "   Unit Cost  Total Revenue  Total Cost  Total Profit  \n",
      "0       6.92       14862.69    11023.56       3839.13  \n",
      "1      35.84      503890.08   165258.24     338631.84  \n",
      "2     364.69      151880.40   131288.40      20592.00  \n",
      "3      35.84       61415.36    20142.08      41273.28  \n",
      "4      31.79      188518.85   126301.67      62217.18  \n"
     ]
    }
   ],
   "source": [
    "# Convert date column to datetime format\n",
    "df['Order Date'] = pd.to_datetime(df['Order Date'])\n",
    "df['Ship Date'] = pd.to_datetime(df['Ship Date'])\n",
    "\n",
    "# Convert datetime format to PostgreSQL-compatible date format\n",
    "df['Order Date'] = df['Order Date'].dt.strftime('%Y-%m-%d')\n",
    "df['Ship Date'] = df['Ship Date'].dt.strftime('%Y-%m-%d')\n",
    "\n",
    "# Print the first few rows to verify the conversion\n",
    "print(df.head())"
   ]
  },
  {
   "cell_type": "markdown",
   "metadata": {},
   "source": [
    "Now the data set is ready to be loaded into the database."
   ]
  }
 ],
 "metadata": {
  "kernelspec": {
   "display_name": ".venv",
   "language": "python",
   "name": "python3"
  },
  "language_info": {
   "codemirror_mode": {
    "name": "ipython",
    "version": 3
   },
   "file_extension": ".py",
   "mimetype": "text/x-python",
   "name": "python",
   "nbconvert_exporter": "python",
   "pygments_lexer": "ipython3",
   "version": "3.12.0"
  }
 },
 "nbformat": 4,
 "nbformat_minor": 2
}
